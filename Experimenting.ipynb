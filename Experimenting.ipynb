{
 "cells": [
  {
   "cell_type": "code",
   "execution_count": 1,
   "metadata": {},
   "outputs": [],
   "source": [
    "import pandas as pd\n",
    "import numpy as np\n",
    "import matplotlib.pyplot as plt\n"
   ]
  },
  {
   "cell_type": "markdown",
   "metadata": {},
   "source": [
    "# Open all the Excel Files"
   ]
  },
  {
   "cell_type": "code",
   "execution_count": 2,
   "metadata": {},
   "outputs": [],
   "source": [
    "SchedulePath = 'Input/MD_10/RSC_Schedule.xlsx'\n",
    "RPVPath = 'Input/MD_10/RSC_RPV.xlsx'\n",
    "SBVPath = 'Input/MD_10/RSC_SBV.xlsx'\n",
    "IDRPath = 'Input/MD_10/RSC_IDR.xlsx'\n",
    "\n",
    "ScheduleSheet = pd.ExcelFile(SchedulePath)\n",
    "RPVSheet = pd.ExcelFile(RPVPath)\n",
    "SBVSheet = pd.ExcelFile(SBVPath)\n",
    "IDRSheet = pd.ExcelFile(IDRPath)"
   ]
  },
  {
   "cell_type": "markdown",
   "metadata": {},
   "source": [
    "# List out all the Pages in each Excel sheet"
   ]
  },
  {
   "cell_type": "code",
   "execution_count": null,
   "metadata": {},
   "outputs": [
    {
     "name": "stdout",
     "output_type": "stream",
     "text": [
      "Schedule Pages\n",
      "-----------------\n",
      "Match Day Schedules\n",
      "Premier\n",
      "Master\n",
      "Elite\n",
      "Veteran\n",
      "Rival\n",
      "Challenger\n",
      "Prospect\n",
      "Contender\n",
      "Amateur\n",
      "MasterSchedule\n",
      "Working sheet\n",
      "DataValidation\n",
      "F&T\n",
      "\n",
      "\n",
      "RPV Pages\n",
      "-----------------\n",
      "Match Day Schedules\n",
      "Premier\n",
      "Master\n",
      "Elite\n",
      "Veteran\n",
      "Rival\n",
      "Challenger\n",
      "Prospect\n",
      "Contender\n",
      "Amateur\n",
      "MasterSchedule\n",
      "Working sheet\n",
      "DataValidation\n",
      "F&T\n",
      "\n",
      "\n",
      "SBV Pages\n",
      "-----------------\n",
      "Match Day Schedules\n",
      "Premier\n",
      "Master\n",
      "Elite\n",
      "Veteran\n",
      "Rival\n",
      "Challenger\n",
      "Prospect\n",
      "Contender\n",
      "Amateur\n",
      "MasterSchedule\n",
      "Working sheet\n",
      "DataValidation\n",
      "F&T\n",
      "\n",
      "\n",
      "IDR Pages\n",
      "-----------------\n",
      "Match Day Schedules\n",
      "Premier\n",
      "Master\n",
      "Elite\n",
      "Veteran\n",
      "Rival\n",
      "Challenger\n",
      "Prospect\n",
      "Contender\n",
      "Amateur\n",
      "MasterSchedule\n",
      "Working sheet\n",
      "DataValidation\n",
      "F&T\n",
      "\n",
      "\n"
     ]
    }
   ],
   "source": [
    "schedulePages = ScheduleSheet.sheet_names\n",
    "RPVPages = RPVSheet.sheet_names\n",
    "SBVPages = SBVSheet.sheet_names\n",
    "IDRPages = IDRSheet.sheet_names\n",
    "\n",
    "print(\"Schedule Pages\\n-----------------\")\n",
    "for page in schedulePages:\n",
    "    print(page)\n",
    "print(\"\\n\")\n",
    "\n",
    "print(\"RPV Pages\\n-----------------\")\n",
    "for page in RPVPages:\n",
    "    print(page)\n",
    "print(\"\\n\")\n",
    "\n",
    "print(\"SBV Pages\\n-----------------\")\n",
    "for page in SBVPages:\n",
    "    print(page)\n",
    "print(\"\\n\")\n",
    "\n",
    "print(\"IDR Pages\\n-----------------\")\n",
    "for page in IDRPages:\n",
    "    print(page)\n",
    "print(\"\\n\")\n"
   ]
  },
  {
   "cell_type": "markdown",
   "metadata": {},
   "source": [
    "# Extract the Schedule Page"
   ]
  },
  {
   "cell_type": "code",
   "execution_count": null,
   "metadata": {},
   "outputs": [],
   "source": [
    "MD_Schedules = ScheduleSheet.parse(schedulePages[0])\n",
    "\n",
    "# Premiere Info\n",
    "# \n",
    "# Define the Function for Extracting the Tables\n",
    "def GetTable (sheet, coords):\n",
    "    return sheet.parse(sheet.sheet_names[0], skiprows=coords[\"skiprows\"], usecols=coords[\"usecols\"], nrows=coords[\"nrows\"])\n",
    "\n",
    "PremiereCoords = { \"skiprows\": 5, \"usecols\": \"B:I\", \"nrows\": 49-6 }\n",
    "MasterCoords = { \"skiprows\": 56, \"usecols\": \"B:K\", \"nrows\": 102-57 }\n",
    "EliteCoords = { \"skiprows\": 109, \"usecols\": \"B:Q\", \"nrows\": 158-110 }\n",
    "VeteranCoords = { \"skiprows\": 165, \"usecols\": \"B:V\", \"nrows\": 218-166 }\n",
    "RivalCoords = { \"skiprows\": 227, \"usecols\": \"B:V\", \"nrows\": 278-228 }\n",
    "ChallengerCoords = { \"skiprows\": 285, \"usecols\": \"B:Q\", \"nrows\": 334-286 }\n",
    "ProspectCoords = { \"skiprows\": 341, \"usecols\": \"B:K\", \"nrows\": 387-342 }\n",
    "ContenderCoords = { \"skiprows\": 394, \"usecols\": \"B:H\", \"nrows\": 438-395 }\n",
    "AmateurCoords = { \"skiprows\": 445, \"usecols\": \"B:K\", \"nrows\": 464-446 }\n",
    "\n",
    "PremiereSchedule = GetTable(ScheduleSheet, PremiereCoords)\n"
   ]
  }
 ],
 "metadata": {
  "kernelspec": {
   "display_name": "Python 3",
   "language": "python",
   "name": "python3"
  },
  "language_info": {
   "codemirror_mode": {
    "name": "ipython",
    "version": 3
   },
   "file_extension": ".py",
   "mimetype": "text/x-python",
   "name": "python",
   "nbconvert_exporter": "python",
   "pygments_lexer": "ipython3",
   "version": "3.12.3"
  }
 },
 "nbformat": 4,
 "nbformat_minor": 2
}
